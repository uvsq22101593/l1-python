{
 "cells": [
  {
   "cell_type": "markdown",
   "metadata": {
    "slideshow": {
     "slide_type": "slide"
    }
   },
   "source": [
    "# TD 2: Les structures de contrôle\n",
    "\n",
    "---\n",
    "\n",
    "## 0. Récupération des nouveaux documents\n",
    "\n",
    "\n",
    "Les sujets de TD ainsi que les supports de cours sont publiés en ligne au fur et à mesure sur l'espace github original [https://github.com/uvsq-info/l1-python](https://github.com/uvsq-info/l1-python). Au moment où vous avez fait le fork de cet espace sur votre espace personnel, il est probable que tous les contenus n'étaient pas présents. Pour compléter votre espace, deux solutions sont possibles:\n",
    "\n",
    "\n",
    "1. (solution à privilégier) aller sur la page du projet original [https://github.com/uvsq-info/l1-python](https://github.com/uvsq-info/l1-python), et cliquer sur le bouton vert `Code` en haut à droite. Choisir `download ZIP`, puis extraire l'ensemble des nouveaux fichiers vers votre projet personnel local. Vous pouvez ensuite sauvegarder ces ajouts dans votre espace github personnel en suivant la procédure habituelle.\n",
    "2. (solution qui présente des risques de conflits entre différentes versions d'un même document) en ligne de commande dans le terminal, en suivant la procédure de la section *Intégrer les mises à jour du projet original* du fichier [README.md](https://github.com/uvsq-info/l1-python/blob/master/README.md#int%C3%A9grer-les-mises-%C3%A0-jour-du-projet-original)\n"
   ]
  },
  {
   "cell_type": "markdown",
   "metadata": {
    "slideshow": {
     "slide_type": "slide"
    }
   },
   "source": [
    "---\n",
    "\n",
    "## 1. Premiers exercices avec les structures conditionnelles\n",
    "\n",
    "**Exercice 1:**\n",
    "\n",
    "1. Soit *num1 = 15* et *num2 = 5*. Ecrire un programme qui affiche *Factors!* si l'un des nombres est un facteur de l'autre (c'est-à-dire qu'il divise l'autre nombre). Si aucun des nombres n'est un facteur de l'autre, le programme n'affiche rien.\n",
    "2. Changer le code que vous avez écrit de telle sorte qu'il affiche toujours *Factors!* si un nombre est un facteur de l'autre, mais qui affiche aussi *Not factors!* si aucun des nombres n'est un facteur de l'autre."
   ]
  },
  {
   "cell_type": "code",
   "execution_count": 35,
   "metadata": {
    "slideshow": {
     "slide_type": "notes"
    }
   },
   "outputs": [
    {
     "name": "stdout",
     "output_type": "stream",
     "text": [
      "Factors!\n"
     ]
    }
   ],
   "source": [
    "num1 = 15\n",
    "num2 = 5\n",
    "if num2 % num1==0 or num1%num2==0:\n",
    "    print( \"Factors!\")\n",
    "else :\n",
    "    print (\"No Factors!\")\n"
   ]
  },
  {
   "cell_type": "markdown",
   "metadata": {
    "slideshow": {
     "slide_type": "slide"
    }
   },
   "source": [
    "**Exercice 2:**\n",
    "    \n",
    "Soit *state = \"Georgia\"*. Ecrire un programme qui permet d'afficher un message spécifique en fonction de la variable *state* :  \n",
    "* \"School isn't cancelled.\" si nous sommes à New Jersey,  \n",
    "* \"School is postponed.\" si nous sommes à North Carolina,\n",
    "* \"School is cancelled!\" si nous sommes à Georgia,  \n",
    "* \"School's status is unknown\" si nous ne sommes pas dans un des trois états précédemment mentionnés."
   ]
  },
  {
   "cell_type": "code",
   "execution_count": 42,
   "metadata": {
    "slideshow": {
     "slide_type": "notes"
    }
   },
   "outputs": [
    {
     "name": "stdout",
     "output_type": "stream",
     "text": [
      "School is cancelled!\n"
     ]
    }
   ],
   "source": [
    "state = \"Georgia\"\n",
    "if state == \"New_Jersey\":\n",
    "    print (\"School isn't cancelled\")\n",
    "elif state == \"North_Carolina\":\n",
    "    print(\"School is posponed\") \n",
    "elif state== \"Georgia\":\n",
    "    print (\"School is cancelled!\")\n",
    "else :\n",
    "    print(\"School's satus is unknown\")\n"
   ]
  },
  {
   "cell_type": "markdown",
   "metadata": {
    "slideshow": {
     "slide_type": "slide"
    }
   },
   "source": [
    "**Exercice 3:**\n",
    "\n",
    "Ecrire un programme pour découvrir le signe du zodiaque chinois pour une année donnée. Le signe du zodiaque chinois est basé sur un cycle de 12 ans et chaque année de ce cycle est représentée par un animal :\n",
    "* 0: monkey\n",
    "* 1: rooster\n",
    "* 2: dog\n",
    "* 3: pig\n",
    "* 4: rat\n",
    "* 5: ox\n",
    "* 6: tiger\n",
    "* 7: rabbit\n",
    "* 8: dragon\n",
    "* 9: snake\n",
    "* 10: horse\n",
    "* 11: sheep\n",
    "\n",
    "La valeur de l'année % 12 détermine le signe du zodiaque. Par exemple, 1900 est l'année du *rat* puisque 1900 % 12 est 4."
   ]
  },
  {
   "cell_type": "code",
   "execution_count": 1,
   "metadata": {
    "slideshow": {
     "slide_type": "notes"
    }
   },
   "outputs": [
    {
     "name": "stdout",
     "output_type": "stream",
     "text": [
      "sheep\n"
     ]
    }
   ],
   "source": [
    "annee = 2003\n",
    "\n",
    "valeur = annee%12\n",
    "\n",
    "if valeur == 0:\n",
    "    print (\"monkey\")\n",
    "elif valeur == 1:\n",
    "    print (\"rooster\")\n",
    "elif valeur == 2:\n",
    "    print(\"dog\")\n",
    "elif valeur==3:\n",
    "    print(\"pig\")\n",
    "elif valeur==4:\n",
    "    print(\"rat\")\n",
    "elif valeur==5:\n",
    "    print(\"ox\")\n",
    "elif valeur==6:\n",
    "    print(\"tiger\")\n",
    "elif valeur==7:\n",
    "    print(\"rabbit\")\n",
    "elif valeur==8:\n",
    "    print (\"dragon\")\n",
    "elif valeur==9:\n",
    "    print(\"snake\")\n",
    "elif valeur==10:\n",
    "    print(\"horse\")\n",
    "else :\n",
    "    print(\"sheep\")\n",
    "\n",
    "\n"
   ]
  },
  {
   "cell_type": "markdown",
   "metadata": {
    "slideshow": {
     "slide_type": "slide"
    }
   },
   "source": [
    "**Exercice 4:**\n",
    "\n",
    "Soit *temperature = -3.7* et *celsius = True*. *celsius* est une variable booléenne qui indique si la température est en Celsius; si c'est *False*, alors la température donnée est en Fahrenheit. Ecrire un premier programme en utilisant *if-else* seulement qui permet d'afficher *Freezing* si les valeurs données représentent une température très basse, et *Not freezing* si ce n'est pas le cas. En Celsius, on considère qu'il fait très froid lorsque la température est inférieure ou égale à 0 degré. En Fahrenheit, on considère qu'il fait très froid lorsque la température est inférieure ou égale à 32 degrés. Proposer une seconde solution en utilisant *if-elif-else* à ce même problème."
   ]
  },
  {
   "cell_type": "code",
   "execution_count": 52,
   "metadata": {
    "slideshow": {
     "slide_type": "notes"
    }
   },
   "outputs": [
    {
     "name": "stdout",
     "output_type": "stream",
     "text": [
      "Not Freezing\n"
     ]
    }
   ],
   "source": [
    "temperature = 10\n",
    "celsius = True\n",
    "if (celsius ==True and temperature<=0) or (celsius ==False and temperature <=32):\n",
    "    print(\"Freezing\")\n",
    "else :\n",
    "    print(\"Not Freezing\")\n"
   ]
  },
  {
   "cell_type": "code",
   "execution_count": 53,
   "metadata": {},
   "outputs": [
    {
     "name": "stdout",
     "output_type": "stream",
     "text": [
      "Freezing\n"
     ]
    }
   ],
   "source": [
    "temperature =-3.7\n",
    "celsius = True\n",
    "if celsius ==True and temperature<=0:\n",
    "    print(\"Freezing\")\n",
    "else :\n",
    "    print(\"Not Freezing\")"
   ]
  },
  {
   "cell_type": "markdown",
   "metadata": {
    "slideshow": {
     "slide_type": "slide"
    }
   },
   "source": [
    "**Exercice 5:**\n",
    "    \n",
    "Ecrire un programme qui permet de déterminer si une année est bissextile ou non en utilisant une seule instruction *if-else*. Une année *A* est bissextile si *A* est divisible par 4. Elle ne l’est cependant pas si *A* est un multiple\n",
    "de 100, à moins que *A* ne soit multiple de 400.    "
   ]
  },
  {
   "cell_type": "code",
   "execution_count": 2,
   "metadata": {
    "slideshow": {
     "slide_type": "notes"
    }
   },
   "outputs": [
    {
     "name": "stdout",
     "output_type": "stream",
     "text": [
      "L'annee 2023 n'est pas bissextile\n"
     ]
    }
   ],
   "source": [
    "annee=2023\n",
    "if annee%4 == 0 and (annee%400 == 0 or annee%100!=0):\n",
    "    print(f\"L'annee {annee} est bissextile\")\n",
    "else :\n",
    "    print (f\"L'annee {annee} n'est pas bissextile\")"
   ]
  },
  {
   "cell_type": "markdown",
   "metadata": {},
   "source": [
    "---\n",
    "\n",
    "## 2. Premiers exercices avec les structures itératives\n",
    "\n",
    "**Exercice 6:**\n",
    "\n",
    "1. Ecrire un programme qui permet d'afficher tous les nombres entre 1 et 10 (bornes incluses).\n",
    "2. Ecrire un programme se limitant à la boucle *for* qui permet d'afficher tous les nombres pairs entre 1 et 20 (bornes incluses). Proposer une deuxième solution en incluant une structure conditionnelle."
   ]
  },
  {
   "cell_type": "code",
   "execution_count": 4,
   "metadata": {},
   "outputs": [
    {
     "name": "stdout",
     "output_type": "stream",
     "text": [
      "1\n",
      "2\n",
      "3\n",
      "4\n",
      "5\n",
      "6\n",
      "7\n",
      "8\n",
      "9\n",
      "10\n"
     ]
    }
   ],
   "source": [
    "for k in range (1, 11):\n",
    "    print (k)"
   ]
  },
  {
   "cell_type": "code",
   "execution_count": 6,
   "metadata": {},
   "outputs": [
    {
     "name": "stdout",
     "output_type": "stream",
     "text": [
      "2\n",
      "4\n",
      "6\n",
      "8\n",
      "10\n",
      "12\n",
      "14\n",
      "16\n",
      "18\n",
      "20\n"
     ]
    }
   ],
   "source": [
    "for k in range (2,21,2):\n",
    "    print (k)"
   ]
  },
  {
   "cell_type": "code",
   "execution_count": 9,
   "metadata": {},
   "outputs": [
    {
     "name": "stdout",
     "output_type": "stream",
     "text": [
      " \n",
      "2\n",
      " \n",
      "4\n",
      " \n",
      "6\n",
      " \n",
      "8\n",
      " \n",
      "10\n",
      " \n",
      "12\n",
      " \n",
      "14\n",
      " \n",
      "16\n",
      " \n",
      "18\n",
      " \n",
      "20\n"
     ]
    }
   ],
   "source": [
    "for k in range (1, 21):\n",
    "    if k % 2==0:\n",
    "        print (k)\n",
    "    else :\n",
    "        print (\" \")\n"
   ]
  },
  {
   "cell_type": "markdown",
   "metadata": {},
   "source": [
    "**Exercice 7:**\n",
    "    \n",
    "1. Ecrire un programme qui demande à l'utilisateur de saisir *n* nombres, *n* étant choisi par l'utilisateur, puis d'afficher la moyenne de ces nombres.\n",
    "\n",
    "2. Même question, mais l'utilisateur ne choisit pas à l'avance le nombre *n*, la procédure s'arrête quand il saisit le nombre -1.\n"
   ]
  },
  {
   "cell_type": "code",
   "execution_count": 28,
   "metadata": {},
   "outputs": [
    {
     "name": "stdout",
     "output_type": "stream",
     "text": [
      "La moyenne vaut : 2.0\n"
     ]
    }
   ],
   "source": [
    "n = int(input(\"entrez un nombre\"))\n",
    "result = 0\n",
    "for i in range(0, n ):\n",
    "    val = int(input(\"entrez un nombre\"))\n",
    "    result += val\n",
    "    moyenne = result/n\n",
    "print(\"La moyenne vaut :\", moyenne)"
   ]
  },
  {
   "cell_type": "code",
   "execution_count": 18,
   "metadata": {},
   "outputs": [
    {
     "name": "stdout",
     "output_type": "stream",
     "text": [
      "la moyenne vaut: 9.0\n"
     ]
    }
   ],
   "source": [
    "val = int(input(\"entrez un nombre\"))\n",
    "result = 0\n",
    "emp = 0\n",
    "while (val != -1):\n",
    "    result += val\n",
    "    emp += 1\n",
    "    val = int(input(\"entrez un nombre\"))\n",
    "    moyenne = result/emp\n",
    "print('la moyenne vaut:', moyenne)"
   ]
  },
  {
   "cell_type": "markdown",
   "metadata": {},
   "source": [
    "**Exercice 8:**\n",
    "\n",
    "Ecrire un programme qui permet de calculer le factoriel d'un nombre positif donné par l'utlisateur selon la formule suivante : \n",
    "n! = 1 x 2 x ... x n.  \n",
    "\n",
    "1. Une première version en utilisant la boucle *for*\n",
    "2. Une seconde version en utilisant la boucle *while*"
   ]
  },
  {
   "cell_type": "code",
   "execution_count": 14,
   "metadata": {},
   "outputs": [
    {
     "name": "stdout",
     "output_type": "stream",
     "text": [
      "720\n"
     ]
    }
   ],
   "source": [
    "n = int(input(\"entrez un nompbre\"))\n",
    "facto = 1\n",
    "for i in range(1,n+1):\n",
    "    facto *= i\n",
    "print (facto)\n",
    "\n",
    "\n"
   ]
  },
  {
   "cell_type": "code",
   "execution_count": 30,
   "metadata": {},
   "outputs": [
    {
     "name": "stdout",
     "output_type": "stream",
     "text": [
      "720\n"
     ]
    }
   ],
   "source": [
    "n=int(input(\"entrez un nombre\"))\n",
    "facto =1\n",
    "val = 1\n",
    "while val <=n :\n",
    "    facto *= val\n",
    "    val = val +1\n",
    "print (facto)\n",
    "\n"
   ]
  },
  {
   "cell_type": "code",
   "execution_count": 38,
   "metadata": {},
   "outputs": [
    {
     "name": "stdout",
     "output_type": "stream",
     "text": [
      "5\n"
     ]
    }
   ],
   "source": [
    "n = input (\"entrez un nombre\")\n",
    "def factorielle(n):\n",
    "    if n == 0:\n",
    "        return 1\n",
    "    else:\n",
    "        F = 1\n",
    "        for k in range(2,n+1):\n",
    "            F = F * k\n",
    "        return F\n",
    "print (n)"
   ]
  },
  {
   "cell_type": "code",
   "execution_count": null,
   "metadata": {},
   "outputs": [],
   "source": [
    "def fact_while(n):\n",
    "\n",
    "   rep=1\n",
    "   i=1\n",
    "   while not(i>n):\n",
    "       rep*=i\n",
    "       print (i,rep)\n",
    "       i+=1\n",
    "   return rep"
   ]
  },
  {
   "cell_type": "markdown",
   "metadata": {
    "slideshow": {
     "slide_type": "slide"
    }
   },
   "source": [
    "---\n",
    "\n",
    "## 3. Pour aller plus loin\n",
    "\n",
    "**Excercice 9:**\n",
    "\n",
    "Ecrire un programme qui permet de connaître le jour de naissance de l'utilisateur en posant cinq questions.\n",
    "Chaque question demande si le jour est dans l'un des cinq ensembles suivants :\n",
    "\n",
    "* Set 1: \\[1 3 5 7 9 11 13 15 17 19 21 23 25 27 29 31\\]\n",
    "* Set 2: \\[2 3 6 7 10 11 14 15 18 19 22 23 26 27 30 31\\]\n",
    "* Set 3: \\[4 5 6 7 12 13 14 15 20 21 22 23 28 29 30 31\\]\n",
    "* Set 4: \\[8 9 10 11 12 13 14 15 24 25 26 27 28 29 30 31\\]\n",
    "* Set 5: \\[16 17 18 19 20 21 22 23 24 25 26 27 28 29 30 31\\]\n",
    "    \n",
    "\n",
    "Le jour de naissance est la somme des premiers nombres dans les ensembles où le jour apparaît. Par exemple,\n",
    "si le jour de naissance est 19, il apparaît dans Set 1, Set 2 et Set 5. Les premiers chiffres de ces trois ensembles sont 1, 2 et 16. Leur somme est 19."
   ]
  },
  {
   "cell_type": "code",
   "execution_count": 4,
   "metadata": {
    "slideshow": {
     "slide_type": "notes"
    }
   },
   "outputs": [
    {
     "name": "stdout",
     "output_type": "stream",
     "text": [
      "Votre anniversaire est le : 19\n"
     ]
    }
   ],
   "source": [
    "set1=[1, 3, 5, 7, 9, 11, 13, 15, 17, 19, 21, 23, 25, 27, 29, 31]\n",
    "set2=[2, 3, 6, 7, 10, 11, 14, 15, 18, 19, 22, 23, 26, 27, 30, 31]\n",
    "set3=[4, 5, 6, 7, 12, 13, 14, 15, 20, 21, 22, 23, 28, 29, 30, 31]\n",
    "set4=[8, 9, 10, 11, 12, 13, 14, 15, 24, 25, 26, 27, 28, 29, 30, 31]\n",
    "set5=[16, 17, 18, 19, 20, 21, 22, 23, 24, 25, 26, 27, 28, 29, 30, 31]\n",
    "\n",
    "anniv = 0\n",
    "question1 =\"Est-ce que votre anniversaire apparaît dans set1 ? Si oui entrez 1, 0 sinon\"\n",
    "answer = int(input(question1))\n",
    "if answer == 1:\n",
    "    anniv += 1\n",
    "question2 = \"Est-ce que votre anniversaire apparaît dans set2 ? Si oui entrez 1, 0 sinon\"\n",
    "answer = int (input(question2))\n",
    "if answer ==1:\n",
    "    anniv +=2\n",
    "\n",
    "question3= \"Est-ce que votre anniversaire apparaît dans set3 ? Si oui entrez 1, 0 sinon\"\n",
    "answer = int(input(question3))\n",
    "if answer ==1:\n",
    "    anniv += 4\n",
    "   \n",
    "question4 = \"Est-ce que votre anniversaire apparaît dans set4 ? Si oui entrez 1, 0 sinon\"\n",
    "answer = int(input(question4))\n",
    "if answer==1:\n",
    "    anniv += 8\n",
    "\n",
    "question5 = \"Est-ce que votre anniversaire apparaît dans set5 ? Si oui entrez 1, 0 sinon\"\n",
    "answer = int(input(question5))\n",
    "if answer ==1:\n",
    "    anniv +=16\n",
    "print (\"Votre anniversaire est le :\", anniv)\n",
    "           \n",
    "   "
   ]
  },
  {
   "cell_type": "markdown",
   "metadata": {
    "slideshow": {
     "slide_type": "slide"
    }
   },
   "source": [
    "**Excercice 10:**\n",
    "\n",
    "Ecrire un programme qui permet de génèrer de manière aléatoire un nombre à deux chiffres, invite l'utilisateur à saisir un nombre à deux chiffres et détermine si l'utilisateur gagne selon les règles suivantes :\n",
    "* Si l'entrée de l'utilisateur correspond à la loterie (le nombre généré aléatoirement) dans l'ordre exact, la récompense est de 10 000€.\n",
    "* Sinon, si les deux chiffres entrés par l'utilisateur correspondent aux deux chiffres du numéro de loterie, la récompense est de 3 000€.\n",
    "* Sinon, si un chiffre dans l'entrée de l'utilisateur correspond à un chiffre dans le numéro de loterie, la récompense est de 1 000€.\n",
    "\n",
    "**Astuce :** Utiliser la fonction **random.randint(0, 99)** pour génèrer de manière aléatoire un nombre à deux chiffres. Cette fonction doit être accompagné par **import random** comme première instruction dans le code."
   ]
  },
  {
   "cell_type": "code",
   "execution_count": 5,
   "metadata": {
    "slideshow": {
     "slide_type": "notes"
    }
   },
   "outputs": [
    {
     "name": "stdout",
     "output_type": "stream",
     "text": [
      "Vous avez choisi: 57\n",
      "Le numéro de la loterie était: 60\n"
     ]
    },
    {
     "ename": "NameError",
     "evalue": "name 'n' is not defined",
     "output_type": "error",
     "traceback": [
      "\u001b[1;31m---------------------------------------------------------------------------\u001b[0m",
      "\u001b[1;31mNameError\u001b[0m                                 Traceback (most recent call last)",
      "\u001b[1;32mC:\\Users\\LAURED~1\\AppData\\Local\\Temp/ipykernel_12076/1140519794.py\u001b[0m in \u001b[0;36m<module>\u001b[1;34m\u001b[0m\n\u001b[0;32m      4\u001b[0m \u001b[0mprint\u001b[0m \u001b[1;33m(\u001b[0m\u001b[1;34m\"Vous avez choisi:\"\u001b[0m\u001b[1;33m,\u001b[0m \u001b[0mm\u001b[0m\u001b[1;33m)\u001b[0m\u001b[1;33m\u001b[0m\u001b[1;33m\u001b[0m\u001b[0m\n\u001b[0;32m      5\u001b[0m \u001b[0mprint\u001b[0m \u001b[1;33m(\u001b[0m\u001b[1;34m\"Le numéro de la loterie était:\"\u001b[0m\u001b[1;33m,\u001b[0m \u001b[0mloterie\u001b[0m\u001b[1;33m)\u001b[0m\u001b[1;33m\u001b[0m\u001b[1;33m\u001b[0m\u001b[0m\n\u001b[1;32m----> 6\u001b[1;33m \u001b[1;32mif\u001b[0m \u001b[0mm\u001b[0m \u001b[1;33m==\u001b[0m\u001b[0mn\u001b[0m\u001b[1;33m:\u001b[0m\u001b[1;33m\u001b[0m\u001b[1;33m\u001b[0m\u001b[0m\n\u001b[0m\u001b[0;32m      7\u001b[0m     \u001b[0mprint\u001b[0m \u001b[1;33m(\u001b[0m\u001b[1;34m\"Vous avez gagné 10 000€ !\"\u001b[0m\u001b[1;33m)\u001b[0m\u001b[1;33m\u001b[0m\u001b[1;33m\u001b[0m\u001b[0m\n\u001b[0;32m      8\u001b[0m \u001b[1;32melif\u001b[0m \u001b[0mn\u001b[0m\u001b[1;33m==\u001b[0m\u001b[1;36m1\u001b[0m\u001b[1;33m:\u001b[0m\u001b[1;33m\u001b[0m\u001b[1;33m\u001b[0m\u001b[0m\n",
      "\u001b[1;31mNameError\u001b[0m: name 'n' is not defined"
     ]
    }
   ],
   "source": [
    "import random\n",
    "loterie = random.randint(10, 99)\n",
    "m= input (\"choisissez un nombre entre 1 et 99\")\n",
    "print (\"Vous avez choisi:\", m)\n",
    "print (\"Le numéro de la loterie était:\", loterie)\n",
    "if m ==n:\n",
    "    print (\"Vous avez gagné 10 000€ !\")\n",
    "elif n==1:\n",
    "    print (\"Vous avez gagné 3 000€ !\")\n",
    "elif n==2:\n",
    "    print (\"Vous avez gagné 1 000€ !\")\n",
    "\n",
    "else :\n",
    "    print (\"Vous avez perdu !\")\n"
   ]
  },
  {
   "cell_type": "code",
   "execution_count": 75,
   "metadata": {},
   "outputs": [
    {
     "name": "stdout",
     "output_type": "stream",
     "text": [
      "Vous avez choisi: 19\n",
      "Le numéro de la loterie était: 5\n",
      "Vous avez perdu !\n"
     ]
    }
   ],
   "source": [
    "import random\n",
    "loterie = random.randint(0, 99)\n",
    "user = -1\n",
    "while (user < 0 or user > 99):\n",
    "    user = int(input(\"entrez un nombre à 2 chiffres\"))\n",
    "loterie1 = loterie//10\n",
    "loterie2 = loterie % 10\n",
    "user1 = user//10\n",
    "user2 = user % 10\n",
    "print (\"Vous avez choisi:\", user)\n",
    "print (\"Le numéro de la loterie était:\", loterie)\n",
    "if loterie==user:\n",
    "    print (\"Vous avez gagné 10 000€ !\")\n",
    "elif loterie1==user2 and loterie2==user1:\n",
    "     print (\"Vous avez gagné 3 000€ !\")\n",
    "elif loterie1==user2 or loterie2==user1:\n",
    "     print (\"Vous avez gagné 1 000€ !\")\n",
    "else :\n",
    "    print (\"Vous avez perdu !\")\n",
    "\n",
    "    "
   ]
  },
  {
   "cell_type": "markdown",
   "metadata": {},
   "source": [
    "**Exercice 11:**\n",
    "    \n",
    "Ecrire un programme qui permet de calculer la somme des chiffres d'un entier *n* donné. Le nombre *n* doit être compris entre 10 et 20 (bornes incluses)."
   ]
  },
  {
   "cell_type": "code",
   "execution_count": 21,
   "metadata": {},
   "outputs": [
    {
     "name": "stdout",
     "output_type": "stream",
     "text": [
      "le nombre saisi est pas bon\n",
      "le nombre saisi est bon\n",
      "3\n"
     ]
    }
   ],
   "source": [
    "user = int(input(\"saisir un nombre entre 10 et 20\"))\n",
    "if user < 10 or user  > 20:\n",
    "    print (\"le nombre saisi est pas bon\")\n",
    "    int(input(\"saisir un nombre entre 10 et 20\"))\n",
    "    print (\"le nombre saisi est bon\")\n",
    "else :\n",
    "    somme = user//10 + user % 10\n",
    "print (somme)\n"
   ]
  },
  {
   "cell_type": "code",
   "execution_count": 67,
   "metadata": {},
   "outputs": [
    {
     "name": "stdout",
     "output_type": "stream",
     "text": [
      "3\n"
     ]
    }
   ],
   "source": [
    "#correction\n",
    "n = 0\n",
    "while (n < 10 or n > 20):\n",
    "    n = int(input(\"saisir un nombre entre 10 et 20\"))\n",
    "chiffre1 = n % 10\n",
    "chiffre2 = n //10\n",
    "print (chiffre1+chiffre2)"
   ]
  },
  {
   "cell_type": "markdown",
   "metadata": {},
   "source": [
    "**Exercice 12:**\n",
    "\n",
    "1. Ecrire un programme qui permet de générer aléatoirement deux nombres entre 0 et 9, de calculer leurs différences (en valeur absolue), puis d'inviter l'utilisateur à répondre à la question suivante *que vaut abs(number1 - number2)?*. Le programme doit permettre à l'utilisateur de répondre plusieurs fois jusqu'à la saisie de la bonne réponse.\n",
    "2. Modifier le programme précédent de telle sorte qu'il génère cinq occurences à la suite invitant à répondre à la question précédente. A la fin, le programme affiche le nombre moyen de tentatives qu'il a fallu à l'utilisateur pour répondre à une question."
   ]
  },
  {
   "cell_type": "code",
   "execution_count": 41,
   "metadata": {
    "tags": []
   },
   "outputs": [
    {
     "name": "stdout",
     "output_type": "stream",
     "text": [
      "nombre1 = 1 nombre2 = 4\n",
      "3 vous avez trouvé !\n"
     ]
    }
   ],
   "source": [
    "import random\n",
    "nombre1 = random.randint(0, 9)\n",
    "nombre2 = random.randint(0, 9)\n",
    "print (\"nombre1 =\", nombre1, \"nombre2 =\", nombre2)\n",
    "diff= abs(nombre1-nombre2)\n",
    "réponse= int(input(\"Que vaut abs(nombre1 - nombre2)?\"))\n",
    "if réponse == diff:\n",
    "    print (réponse, \"vous avez trouvé !\")\n",
    "else :\n",
    "    print(\"Vous n'avez pas la bonne réponse\")\n",
    "    print(\"la différence vaut\", diff)"
   ]
  },
  {
   "cell_type": "code",
   "execution_count": 47,
   "metadata": {
    "tags": []
   },
   "outputs": [
    {
     "name": "stdout",
     "output_type": "stream",
     "text": [
      "nombre1 = 5 nombre2 = 9\n",
      "4 vous avez trouvé !\n",
      "nombre1 = 8 nombre2 = 7\n",
      "Vous n'avez pas la bonne réponse\n",
      "la différence vaut 1\n",
      "nombre1 = 7 nombre2 = 8\n",
      "1 vous avez trouvé !\n",
      "nombre1 = 4 nombre2 = 3\n",
      "Vous n'avez pas la bonne réponse\n",
      "la différence vaut 1\n",
      "nombre1 = 1 nombre2 = 0\n",
      "1 vous avez trouvé !\n",
      "nombre1 = 9 nombre2 = 2\n",
      "7 vous avez trouvé !\n"
     ]
    }
   ],
   "source": [
    "import random\n",
    "for i in range (0, 6):\n",
    "    nombre1 = random.randint(0, 9)\n",
    "    nombre2 = random.randint(0, 9)\n",
    "    print (\"nombre1 =\", nombre1, \"nombre2 =\", nombre2)\n",
    "    diff= abs(nombre1-nombre2)\n",
    "    réponse= int(input(\"Que vaut abs(nombre1 - nombre2)?\"))\n",
    "    if réponse == diff:\n",
    "        print (réponse, \"vous avez trouvé !\")\n",
    "    else :\n",
    "        print(\"Vous n'avez pas la bonne réponse\")\n",
    "        print(\"la différence vaut\", diff)\n"
   ]
  },
  {
   "cell_type": "code",
   "execution_count": 75,
   "metadata": {},
   "outputs": [
    {
     "name": "stdout",
     "output_type": "stream",
     "text": [
      "3\n"
     ]
    }
   ],
   "source": [
    "#correction \n",
    "n1 = random.randint(0,9)\n",
    "n2 = random.randint(0,9)\n",
    "resultat = -1\n",
    "while (resultat != abs(n1- n2)):\n",
    "    resultat = int(input( f'Que vaut {n1} - {n2}?'))\n",
    "print (resultat)"
   ]
  },
  {
   "cell_type": "code",
   "execution_count": 76,
   "metadata": {},
   "outputs": [
    {
     "name": "stdout",
     "output_type": "stream",
     "text": [
      "1.2\n"
     ]
    }
   ],
   "source": [
    "#correction\n",
    "nb_essai = 0\n",
    "for i in range (0, 5):\n",
    "    n1 = random.randint(0,9)\n",
    "    n2 = random.randint(0,9)\n",
    "    resultat = -1\n",
    "    while (resultat != abs(n1- n2)):\n",
    "        resultat = int(input( f'Que vaut {n1} - {n2}?'))\n",
    "        nb_essai +=1\n",
    "print (nb_essai/5)"
   ]
  },
  {
   "cell_type": "markdown",
   "metadata": {},
   "source": [
    "**Exercice 13:**\n",
    "\n",
    "Ecrire un programme qui permet de calculer le nombre de mots dans une phrase saisie par l'utilisateur."
   ]
  },
  {
   "cell_type": "code",
   "execution_count": 49,
   "metadata": {
    "tags": []
   },
   "outputs": [
    {
     "name": "stdout",
     "output_type": "stream",
     "text": [
      "24\n"
     ]
    }
   ],
   "source": [
    "user = str(input (\"saisissez une phrase\"))\n",
    "somme =len (user) #Calcul le nombre de caractère\n",
    "print (somme)\n"
   ]
  },
  {
   "cell_type": "code",
   "execution_count": 50,
   "metadata": {},
   "outputs": [
    {
     "name": "stdout",
     "output_type": "stream",
     "text": [
      "Il y a 4 mots.\n"
     ]
    }
   ],
   "source": [
    "user = str(input (\"saisissez une phrase\"))\n",
    "result = len(user.split())# calcul le nombre de mots dans la phrase\n",
    "print(\"Il y a \" + str(result) + \" mots.\")"
   ]
  },
  {
   "cell_type": "code",
   "execution_count": 83,
   "metadata": {},
   "outputs": [
    {
     "name": "stdout",
     "output_type": "stream",
     "text": [
      "Il y a  1 mots.\n"
     ]
    }
   ],
   "source": [
    "phrase = input(\"saisissez une phrase\")\n",
    "nb_mot = 1\n",
    "for char in phrase :\n",
    "    if (char == \" \") or (char == \"\\'\"):\n",
    "        nb_mot += 1\n",
    "print (\"Il y a \", nb_mot, \"mots.\")"
   ]
  },
  {
   "cell_type": "markdown",
   "metadata": {
    "slideshow": {
     "slide_type": "slide"
    }
   },
   "source": [
    "---\n",
    "\n",
    "## 4. Pour s'entraîner\n",
    "\n",
    "**Exercice 14:**\n",
    "    \n",
    "Soit la variable my_input = \"zoophysiology\". Ecrire un script qui permet d'afficher l'un des messages suivants en fonction du nombre maximum de *o* consécutifs dans la variable *my_input*. Par exemple, le script doit afficher \"I like studying birds! I want to become an ornithologist!\" parce qu'il y a deux *o* consécutifs, même s'il y a aussi des *o* individual.\n",
    "Ignorer les *o* majuscules - recherchez que les *o* minuscules.\n",
    "\n",
    "* Si \"o\" apparaît trois fois ou plus de suite, afficher le message \"I like going to the zoo!\"  \n",
    "* Si \"o\" apparaît deux fois, afficher le message \"I like studying birds! I want to become an ornithologist!\"  \n",
    "* Si \"o\" apparaît une seule fois, afficher le message \"I like studying fish! I want to become an ichthyologist!\"  \n",
    "* Si \"o\" n'apparaît pas dans la variable *my_input*, afficher le message \"I miss going to the zoo!\"  \n",
    "\n",
    "**Astuce :** Utiliser l'opérateur **in** qui renvoie **True** si la première chaîne se trouve dans la deuxième chaîne. "
   ]
  },
  {
   "cell_type": "code",
   "execution_count": 53,
   "metadata": {
    "slideshow": {
     "slide_type": "notes"
    }
   },
   "outputs": [
    {
     "name": "stdout",
     "output_type": "stream",
     "text": [
      "I like studying birds! I want to become an ornithologist!\n",
      "I like studying fish! I want to become an ichthyologist!\n"
     ]
    }
   ],
   "source": [
    "my_input = \"zoophysiology\"\n",
    "if \"ooo\" in \"zoophysiology\":\n",
    "    print (\"I like going to the zoo!\")\n",
    "if \"oo\" in \"zoophysiology\":\n",
    "    print (\"I like studying birds! I want to become an ornithologist!\" )\n",
    "if \"o\" in \"zoophysiology\":\n",
    "    print (\"I like studying fish! I want to become an ichthyologist!\")\n",
    "if \"o\" not in \"zoophysiology\":\n",
    "    print (\"I miss going to the zoo!\")\n"
   ]
  },
  {
   "cell_type": "code",
   "execution_count": 3,
   "metadata": {},
   "outputs": [
    {
     "ename": "TypeError",
     "evalue": "'>' not supported between instances of 'str' and 'int'",
     "output_type": "error",
     "traceback": [
      "\u001b[1;31m---------------------------------------------------------------------------\u001b[0m",
      "\u001b[1;31mTypeError\u001b[0m                                 Traceback (most recent call last)",
      "\u001b[1;32mC:\\Users\\LAURED~1\\AppData\\Local\\Temp/ipykernel_12108/328321673.py\u001b[0m in \u001b[0;36m<module>\u001b[1;34m\u001b[0m\n\u001b[0;32m      1\u001b[0m \u001b[1;31m#correction\u001b[0m\u001b[1;33m\u001b[0m\u001b[1;33m\u001b[0m\u001b[0m\n\u001b[0;32m      2\u001b[0m \u001b[0mmy_input\u001b[0m \u001b[1;33m=\u001b[0m \u001b[1;34m\"zoophysiology\"\u001b[0m\u001b[1;33m\u001b[0m\u001b[1;33m\u001b[0m\u001b[0m\n\u001b[1;32m----> 3\u001b[1;33m \u001b[1;32mif\u001b[0m \u001b[0mmy_input\u001b[0m\u001b[1;33m.\u001b[0m\u001b[0mcount\u001b[0m\u001b[1;33m(\u001b[0m\u001b[1;33m(\u001b[0m\u001b[1;34m\"ooo\"\u001b[0m\u001b[1;33m)\u001b[0m \u001b[1;33m>\u001b[0m \u001b[1;36m0\u001b[0m\u001b[1;33m)\u001b[0m\u001b[1;33m:\u001b[0m\u001b[1;33m\u001b[0m\u001b[1;33m\u001b[0m\u001b[0m\n\u001b[0m\u001b[0;32m      4\u001b[0m     \u001b[0mprint\u001b[0m\u001b[1;33m(\u001b[0m\u001b[1;34m\"I like going to the zoo!\"\u001b[0m\u001b[1;33m)\u001b[0m\u001b[1;33m\u001b[0m\u001b[1;33m\u001b[0m\u001b[0m\n\u001b[0;32m      5\u001b[0m \u001b[1;32melif\u001b[0m \u001b[0mmy_input\u001b[0m\u001b[1;33m.\u001b[0m\u001b[0mcount\u001b[0m \u001b[1;33m(\u001b[0m\u001b[1;33m(\u001b[0m\u001b[1;34m\"oo\"\u001b[0m \u001b[1;33m>\u001b[0m \u001b[1;36m0\u001b[0m\u001b[1;33m)\u001b[0m\u001b[1;33m)\u001b[0m\u001b[1;33m:\u001b[0m\u001b[1;33m\u001b[0m\u001b[1;33m\u001b[0m\u001b[0m\n",
      "\u001b[1;31mTypeError\u001b[0m: '>' not supported between instances of 'str' and 'int'"
     ]
    }
   ],
   "source": [
    "#correction\n",
    "my_input = \"zoophysiology\"\n",
    "if my_input.count((\"ooo\") > 0):\n",
    "    print(\"I like going to the zoo!\")\n",
    "elif my_input.count ((\"oo\" > 0)):\n",
    "    print (\"I like studying birds! I want to become an ornithologist!\" )\n",
    "elif my_input.count ((\"o\" > 0)):\n",
    "    print(\"I like studying fish! I want to become an ichthyologist!\")\n",
    "else :\n",
    "    (\"I miss going to the zoo!\")\n",
    "len (my_input.split(\"ooo\"))==1"
   ]
  },
  {
   "cell_type": "markdown",
   "metadata": {
    "slideshow": {
     "slide_type": "slide"
    }
   },
   "source": [
    "**Exercice 15:**\n",
    "    \n",
    "Créer quatre variables nommées *team_1* et *team_2*, représentant deux noms d'équipes, et *team_1_score* et *team_2_score*, représentant les scores de ces deux équipes. \n",
    "Une équipe gagne si son score est supérieur à l'autre score de l'autre équipe.\n",
    " \n",
    "Ecrire un premier script qui permet d'afficher les messages suivants selon les valeurs entrées, ceci en utilisant seulement les quatres variables créées :\n",
    "* Si une équipe bat l'autre, affichez: \"\\[winner\\] beat \\[loser\\] by \\[margin\\]\"\n",
    "* Si aucune des équipes n'a gagné, affichez: \"\\[team_1\\] played \\[team_2\\] and it was a tie\"\n",
    "\n",
    "Ecrire un deuxième script qui permet d'afficher les mêmes messages mais en ajoutant trois variables de plus :\n",
    "* La variable *winner* pour définir l'équipe gagnante  \n",
    "* La variable *loser* pour définier l'équipe perdante  \n",
    "* La variable *margin* pour définir la différence entre les deux scores \n"
   ]
  },
  {
   "cell_type": "code",
   "execution_count": 59,
   "metadata": {
    "slideshow": {
     "slide_type": "notes"
    }
   },
   "outputs": [
    {
     "name": "stdout",
     "output_type": "stream",
     "text": [
      "The cats 15 played The dogs 15 and is was a tie \n"
     ]
    }
   ],
   "source": [
    "team_1 = \"The cats\"\n",
    "team_2 = \"The dogs\"\n",
    "team_1_score = 15\n",
    "team_2_score = 15\n",
    "diff = abs(team_1_score -team_2_score)\n",
    "if team_1_score >team_2_score:\n",
    "    print (\"The cats\",team_1_score, \"beat The dogs\", team_2_score, \"by\",diff )\n",
    "elif team_2_score >team_1_score:\n",
    "    print (\"The dogs\", team_2_score, \"beat The cats\", team_1_score, \"by\",diff )\n",
    "elif team_1_score == team_2_score:\n",
    "    print (\"The cats\", team_1_score, \"played The dogs\",team_2_score, \"and is was a tie \" )\n",
    "\n"
   ]
  },
  {
   "cell_type": "code",
   "execution_count": 61,
   "metadata": {
    "slideshow": {
     "slide_type": "notes"
    }
   },
   "outputs": [
    {
     "name": "stdout",
     "output_type": "stream",
     "text": [
      "The dogs 12 beat The cats 11 by 1\n",
      "The winner is The dogs and the loser is The cats\n"
     ]
    }
   ],
   "source": [
    "team_1 = \"The cats\"\n",
    "team_2 = \"The dogs\"\n",
    "team_1_score = 11\n",
    "team_2_score = 12\n",
    "winner = 0\n",
    "loser =0\n",
    "margin = abs(team_1_score -team_2_score)\n",
    "if team_1_score >team_2_score:\n",
    "    print (\"The cats\",team_1_score, \"beat The dogs\", team_2_score, \"by\",margin )\n",
    "    print (\"The winner is The cats and the loser is The dogs\")\n",
    "elif team_2_score >team_1_score:\n",
    "    print (\"The dogs\", team_2_score, \"beat The cats\", team_1_score, \"by\",margin )\n",
    "    print (\"The winner is The dogs and the loser is The cats\")\n",
    "elif team_1_score == team_2_score:\n",
    "    print (team_1_score, \"played\", team_2_score, \"and is was a tie \" )"
   ]
  },
  {
   "cell_type": "code",
   "execution_count": null,
   "metadata": {},
   "outputs": [],
   "source": [
    "#Correction\n",
    "if (team_1_score==team_2_score):\n",
    "    print (team_1_score, \"played\", team_2_score, \"and is was a tie \" )"
   ]
  },
  {
   "cell_type": "markdown",
   "metadata": {
    "slideshow": {
     "slide_type": "slide"
    }
   },
   "source": [
    "**Exercice 16:**\n",
    "    \n",
    "L'Indice de Masse Corporelle (IMC) permet d'estimer le poids idéal en fonction de la taille. Son calcul correspond au poids en kilogrammes divisé par le carré de la taille en mètre (IMC = poids en kg/taille² en m). Le chiffre obtenu permet d'estimer la corpulence et éventuellement le surpoids ou l'obésité chez l'adulte, homme ou femme.\n",
    "L'interprétation de l'IMC pour les personnes de 16 ans et plus est la suivante :\n",
    "* Moins de 18.5: Underweight\n",
    "* Entre 18.5 et 24.9: Normal\n",
    "* Entre 25.0 et 29.9: Overweight\n",
    "* Plus que 30.0: Obese\n",
    "\n",
    "Ecrire un programme qui permet de saisir un poids en *pounds* et une taille en *inches*, de calculer et d'afficher l'IMC à deux valeurs après la virgule, et d'afficher l'interprétation la plus adéquate. Notez qu'un *pound* équivaut à 0,45359237 kilogrammes et qu'un *inch* équivaut à 0,0254 mètre.  \n",
    "\n",
    "**Astuce :** Pour afficher deux valeurs après la virgule, utilisez la fonction **format(nom_variable, \".2f\")**. Exemple : **print('La moyenne est :', format(moyenne, \".2f\"))**"
   ]
  },
  {
   "cell_type": "code",
   "execution_count": 93,
   "metadata": {
    "slideshow": {
     "slide_type": "notes"
    }
   },
   "outputs": [
    {
     "name": "stdout",
     "output_type": "stream",
     "text": [
      "17.30\n",
      "Underweight\n"
     ]
    }
   ],
   "source": [
    "pound = float(input(\"saississez votre poids\"))\n",
    "inch = float(input(\"saississez votre taille\"))\n",
    "imc = pound /(inch**2)\n",
    "print (format(imc, \".2f\"))\n",
    "if imc<18.5 :\n",
    "    print (\"Underweight\")\n",
    "elif 18.5< imc < 24.9:\n",
    "    print (\"Normal\")\n",
    "elif 25< imc < 29.9 :\n",
    "    print (\"Overweight\")\n",
    "else :\n",
    "    print (\"Obese\")"
   ]
  },
  {
   "cell_type": "code",
   "execution_count": 4,
   "metadata": {},
   "outputs": [
    {
     "name": "stdout",
     "output_type": "stream",
     "text": [
      "16203.56\n",
      "Obese\n"
     ]
    }
   ],
   "source": [
    "pound = float(input(\"saississez votre poids\"))\n",
    "inch = float(input(\"saississez votre taille\"))\n",
    "pound = pound *0.45359237\n",
    "inch = inch * 0.0254\n",
    "imc = pound /(inch**2)\n",
    "print (format(imc, \".2f\"))\n",
    "if imc<18.5 :\n",
    "    print (\"Underweight\")\n",
    "elif 18.5< imc < 24.9:\n",
    "    print (\"Normal\")\n",
    "elif 25< imc < 29.9 :\n",
    "    print (\"Overweight\")\n",
    "else :\n",
    "    print (\"Obese\")"
   ]
  },
  {
   "cell_type": "markdown",
   "metadata": {},
   "source": [
    "**Exercice 17:**\n",
    "\n",
    "Ecrire un programme qui affiche un triangle d'étoiles de taille donnée, par exemple si on entre 6, le programme affiche:\n",
    "```\n",
    "*\n",
    "**\n",
    "***\n",
    "****\n",
    "*****\n",
    "******\n",
    "```"
   ]
  },
  {
   "cell_type": "code",
   "execution_count": 104,
   "metadata": {
    "tags": []
   },
   "outputs": [
    {
     "name": "stdout",
     "output_type": "stream",
     "text": [
      "\n",
      "*\n",
      "**\n",
      "***\n",
      "****\n",
      "*****\n"
     ]
    }
   ],
   "source": [
    "etoile = int(input (\"saisissez un nombre\"))\n",
    "for i in range (0, etoile):\n",
    "    print (\"*\"*i)\n",
    "   "
   ]
  },
  {
   "cell_type": "markdown",
   "metadata": {},
   "source": [
    "**Exercice 18:**\n",
    "\n",
    "Même exercice mais cette fois la sortie est\n",
    "```\n",
    "     *\n",
    "    **         \n",
    "   ***\n",
    "  ****\n",
    " *****\n",
    "******\n",
    "```"
   ]
  },
  {
   "cell_type": "code",
   "execution_count": 111,
   "metadata": {
    "tags": []
   },
   "outputs": [
    {
     "name": "stdout",
     "output_type": "stream",
     "text": [
      "       \n",
      "      *\n",
      "     **\n",
      "    ***\n",
      "   ****\n",
      "  *****\n"
     ]
    }
   ],
   "source": [
    "etoile = int(input (\"saisissez un nombre\"))\n",
    "for i in range (0, etoile):\n",
    "    print (\" \"*(etoile - i),\"*\"*i)"
   ]
  },
  {
   "cell_type": "code",
   "execution_count": null,
   "metadata": {},
   "outputs": [],
   "source": []
  },
  {
   "cell_type": "markdown",
   "metadata": {},
   "source": [
    "**Exercice 19:**\n",
    "\n",
    "Ecrire un programme qui calcule, étant donné un entier *n* rentré par l'utilisateur, la plus grande puissance de *n* inférieure à un million."
   ]
  },
  {
   "cell_type": "code",
   "execution_count": 3,
   "metadata": {
    "tags": []
   },
   "outputs": [],
   "source": [
    "nombre = int(input(\"saisissez un nombre\"))\n",
    "for i in range (1, 1000000):\n",
    "    nombre = nombre **i\n",
    "    while nombre < 1000000 :\n",
    "     nombre = nombre**i+1\n",
    "print (nombre)"
   ]
  },
  {
   "cell_type": "code",
   "execution_count": 4,
   "metadata": {},
   "outputs": [
    {
     "name": "stdout",
     "output_type": "stream",
     "text": [
      "0.625\n"
     ]
    }
   ],
   "source": [
    "result=0\n",
    "a= int(input(\"entrez un nombre\"))\n",
    "b= int(input(\"entrez un nombre\"))\n",
    "s= str(input(\"choissisez addition ou soustraction ou multiplication ou division\"))\n",
    "if s==\"addition\":\n",
    "    result= a+b\n",
    "elif s==\"multiplication\":\n",
    "    result= a*b\n",
    "elif s==\"soustraction\":\n",
    "    result=a-b\n",
    "elif s==\"division\":\n",
    "    result = a/b\n",
    "print (result)\n"
   ]
  },
  {
   "cell_type": "code",
   "execution_count": 5,
   "metadata": {},
   "outputs": [
    {
     "name": "stdout",
     "output_type": "stream",
     "text": [
      "True\n"
     ]
    }
   ],
   "source": [
    "print (5*3==15 or 4*2==9 and 18//6==2)\n",
    "#5x3=15 est vrai ou 4x2=9 et 18/6=2 est faux donc la valeur retournée est true"
   ]
  },
  {
   "cell_type": "code",
   "execution_count": 19,
   "metadata": {},
   "outputs": [
    {
     "name": "stdout",
     "output_type": "stream",
     "text": [
      "a vaut -1 b vaut 7 et c vaut 14\n",
      "il y a 2 racines réelles : r1 vaut -1.623475382979799 et r2 vaut 8.623475382979798\n"
     ]
    }
   ],
   "source": [
    "from math import * \n",
    "a = int(input(\"définissez a\"))\n",
    "b = int(input(\"définissez b\"))\n",
    "c = int(input(\"définissez c\"))\n",
    "print (\"a vaut\",a, \"b vaut\", b, \"et c vaut\", c)\n",
    "delta= b**2-(4*a*c)\n",
    "r1= (-b+sqrt(delta))/2*a\n",
    "r2= (-b-sqrt(delta))/2*a\n",
    "if delta<0:\n",
    "    print (\"les racines sont complexes\")\n",
    "elif delta==0:\n",
    "    print(\"il y a une racine double\", r1, r2)\n",
    "elif delta> 0:\n",
    "    print (\"il y a 2 racines réelles : r1 vaut\", r1, \"et r2 vaut\", r2)"
   ]
  },
  {
   "cell_type": "code",
   "execution_count": 25,
   "metadata": {},
   "outputs": [
    {
     "name": "stdout",
     "output_type": "stream",
     "text": [
      "12 42\n"
     ]
    }
   ],
   "source": [
    "nbr_utilisateur = int(input(\"choissiser un nombre entier\"))\n",
    "n =0\n",
    "somme = 0\n",
    "while somme < nbr_utilisateur :\n",
    "    n = n+ 2\n",
    "    somme = somme + n\n",
    "print (n, somme)\n"
   ]
  }
 ],
 "metadata": {
  "celltoolbar": "Diaporama",
  "interpreter": {
   "hash": "87c985de347d37ce44dd27180f04bb3ec801a5ed92f5fbea957d9e28829372dc"
  },
  "kernelspec": {
   "display_name": "Python 3.9.7 64-bit ('base': conda)",
   "name": "python3"
  },
  "language_info": {
   "codemirror_mode": {
    "name": "ipython",
    "version": 3
   },
   "file_extension": ".py",
   "mimetype": "text/x-python",
   "name": "python",
   "nbconvert_exporter": "python",
   "pygments_lexer": "ipython3",
   "version": "3.9.7"
  }
 },
 "nbformat": 4,
 "nbformat_minor": 4
}
