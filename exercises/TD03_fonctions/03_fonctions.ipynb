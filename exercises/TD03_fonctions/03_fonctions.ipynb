{
 "cells": [
  {
   "cell_type": "markdown",
   "metadata": {},
   "source": [
    "# Instructions Générales\n",
    "\n",
    "Ce TD est à faire en créant un fichier td3.py, que vous éditerez dans VSCode. \n",
    "Vous ne remplirez pas les cellules de ce notebook, mais vous les copierez au fur et à mesure \n",
    "dans votre fichier pour les compléter.\n",
    "\n",
    "Vous respecterez au mieux les règles d'écriture de code, en particulier chaque fonction devra avoir un **docstring** et des commentaires si nécessaire et les noms de variable seront illustratifs de leur usage. Vous utiliserez les outils de débogage (flake8, mypy, debugger, pythontutor ...) pour corriger vos bogues."
   ]
  },
  {
   "cell_type": "markdown",
   "metadata": {},
   "source": [
    "# Gestion du temps\n",
    "\n",
    "Nous allons créer un petit logiciel de gestion du temps et des dates.\n",
    "Pour cela nous aurons besoin de créer un certain nombre de fonctions utilitaires.\n",
    "\n",
    "Un temps a le format suivant: (jour: int, heure: int, minute: int, seconde: int).\n",
    "C'est un tuple de 4 éléments. Par exemple (4, 3, 13, 20) correspond à 4 jours, 3 heures, 13 minutes et 20 secondes.\n",
    "Si on a une variable temps = (4, 3, 13, 20), pour accéder au premier élément on fait temps\\[0\\] ce qui donne 4,\n",
    "le nombre de jours.\n",
    "\n",
    "Créer la fonction qui prend comme argument le temps et renvoie le nombre de seconde total correspondant à ce temps.\n",
    "Créer la fonction qui prend un nombre de secondes et renvoie le temps correspondant."
   ]
  },
  {
   "cell_type": "code",
   "execution_count": 13,
   "metadata": {},
   "outputs": [
    {
     "name": "stdout",
     "output_type": "stream",
     "text": [
      "<class 'tuple'>\n",
      "None\n"
     ]
    },
    {
     "ename": "TypeError",
     "evalue": "'NoneType' object is not subscriptable",
     "output_type": "error",
     "traceback": [
      "\u001b[1;31m---------------------------------------------------------------------------\u001b[0m",
      "\u001b[1;31mTypeError\u001b[0m                                 Traceback (most recent call last)",
      "\u001b[1;32mC:\\Users\\LAURED~1\\AppData\\Local\\Temp/ipykernel_8812/212904521.py\u001b[0m in \u001b[0;36m<module>\u001b[1;34m\u001b[0m\n\u001b[0;32m     14\u001b[0m \u001b[1;33m\u001b[0m\u001b[0m\n\u001b[0;32m     15\u001b[0m \u001b[0mtemps\u001b[0m \u001b[1;33m=\u001b[0m \u001b[0msecondeEnTemps\u001b[0m\u001b[1;33m(\u001b[0m\u001b[1;36m100000\u001b[0m\u001b[1;33m)\u001b[0m\u001b[1;33m\u001b[0m\u001b[1;33m\u001b[0m\u001b[0m\n\u001b[1;32m---> 16\u001b[1;33m \u001b[0mprint\u001b[0m\u001b[1;33m(\u001b[0m\u001b[0mtemps\u001b[0m\u001b[1;33m[\u001b[0m\u001b[1;36m0\u001b[0m\u001b[1;33m]\u001b[0m\u001b[1;33m,\u001b[0m\u001b[1;34m\"jours\"\u001b[0m\u001b[1;33m,\u001b[0m\u001b[0mtemps\u001b[0m\u001b[1;33m[\u001b[0m\u001b[1;36m1\u001b[0m\u001b[1;33m]\u001b[0m\u001b[1;33m,\u001b[0m\u001b[1;34m\"heures\"\u001b[0m\u001b[1;33m,\u001b[0m\u001b[0mtemps\u001b[0m\u001b[1;33m[\u001b[0m\u001b[1;36m2\u001b[0m\u001b[1;33m]\u001b[0m\u001b[1;33m,\u001b[0m\u001b[1;34m\"minutes\"\u001b[0m\u001b[1;33m,\u001b[0m\u001b[0mtemps\u001b[0m\u001b[1;33m[\u001b[0m\u001b[1;36m3\u001b[0m\u001b[1;33m]\u001b[0m\u001b[1;33m,\u001b[0m\u001b[1;34m\"secondes\"\u001b[0m\u001b[1;33m)\u001b[0m\u001b[1;33m\u001b[0m\u001b[1;33m\u001b[0m\u001b[0m\n\u001b[0m",
      "\u001b[1;31mTypeError\u001b[0m: 'NoneType' object is not subscriptable"
     ]
    }
   ],
   "source": [
    "#temps[0] : jours, temps[1]: heures, temps[2]: minutes, temps[3]: secondes\n",
    "\n",
    "def tempsEnSeconde(temps):\n",
    "    \"\"\" Renvoie la valeur en seconde de temps donné comme jour, heure, minute, seconde.\"\"\"\n",
    "    pass\n",
    "\n",
    "temps = (3,23,1,34)\n",
    "print(type(temps))\n",
    "print(tempsEnSeconde(temps))   \n",
    "\n",
    "def secondeEnTemps(seconde):\n",
    "    \"\"\"Renvoie le temps (jour, heure, minute, seconde) qui correspond au nombre de seconde passé en argument\"\"\"\n",
    "    pass\n",
    "    \n",
    "temps = secondeEnTemps(100000)\n",
    "print(temps[0],\"jours\",temps[1],\"heures\",temps[2],\"minutes\",temps[3],\"secondes\")"
   ]
  },
  {
   "cell_type": "code",
   "execution_count": 1,
   "metadata": {},
   "outputs": [],
   "source": [
    "#CORRECTION\n",
    "\n",
    "# temps[0] : jours, temps[1]: heures, temps[2]: minutes, temps[3]: secondes\n",
    "import time\n",
    "temps = (3, 23, 1, 34)\n",
    "\n",
    "\n",
    "def tempsEnSeconde(temps: list):\n",
    "    \"\"\" Renvoie la valeur en seconde de temps donné comme jour, heure, minute, seconde.\"\"\"\n",
    "    return (int(temps[0]) * 3600 * 24) + (int(temps[1]) * 3600) + (int(temps[2]) * 60) + (int(temps[3]))\n",
    "    pass\n",
    "# temps = (3, 23, 1, 34)\n",
    "# print(type(temps))\n",
    "# print(tempsEnSeconde(temps))\n",
    "\n"
   ]
  },
  {
   "cell_type": "code",
   "execution_count": 5,
   "metadata": {},
   "outputs": [
    {
     "name": "stdout",
     "output_type": "stream",
     "text": [
      "(3, 23, 1, 34)\n"
     ]
    }
   ],
   "source": [
    "def tempsEnSeconde(temps):\n",
    "    \"\"\" Renvoie la valeur en seconde de temps donné comme jour, heure, minute, seconde.\"\"\"\n",
    "    temps = 0\n",
    "    temps = temps+(3*60*60*24)+(23*60*60)+(1*60)+34 \n",
    "    return temps\n",
    "print (temps)"
   ]
  },
  {
   "cell_type": "code",
   "execution_count": 3,
   "metadata": {},
   "outputs": [],
   "source": [
    "#CORRECTION\n",
    "\n",
    "def secondeEnTemps(seconde: int):\n",
    "    \"\"\"Renvoie le temps (jour, heure, minute, seconde) qui correspond au nombre de seconde passé en argument\"\"\"\n",
    "    temps = (seconde // (24 * 3600), (seconde // 3600) % 24, (seconde // 60) % 60, seconde % 60)\n",
    "    print(temps)\n",
    "    return temps\n",
    "\n",
    "\n",
    "# temps = secondeEnTemps(100000)\n",
    "# print(temps[0],\"jours\",temps[1],\"heures\",temps[2],\"minutes\",temps[3],\"secondes\")\n"
   ]
  },
  {
   "cell_type": "code",
   "execution_count": 6,
   "metadata": {},
   "outputs": [],
   "source": [
    "def secondeEnTemps(seconde: int):\n",
    "    \"\"\"Renvoie le temps (jour, heure, minute, seconde) qui correspond au nombre de seconde passé en argument\"\"\"\n",
    "    temps = (seconde // (24 * 3600), (seconde // 3600) % 24, (seconde // 60) % 60, seconde % 60)\n",
    "    print(temps)\n",
    "    return temps\n"
   ]
  },
  {
   "cell_type": "markdown",
   "metadata": {},
   "source": [
    "Créer une fonction d'affichage d'un temps `afficheTemps`. Attention, les mots jour, heure et seconde doivent être au pluriel s'il y en a plusieurs. S'il y en a zéro, ils ne doivent pas apparaître.\n",
    "`print(message, end=\"\")` permet de ne pas sauter une ligne après un print. \n",
    "Vous pouvez écrire une fonction qui affiche un mot au pluriel ou non, appelée ensuite plusieurs fois par `afficheTemps` pour simplifier votre code.\n"
   ]
  },
  {
   "cell_type": "code",
   "execution_count": null,
   "metadata": {},
   "outputs": [],
   "source": [
    "#fonction auxiliaire ici\n",
    "\n",
    "def afficheTemps(temps):\n",
    "    pass\n",
    "    \n",
    "afficheTemps((1,0,14,23))    "
   ]
  },
  {
   "cell_type": "code",
   "execution_count": 7,
   "metadata": {},
   "outputs": [],
   "source": [
    "#CORRECTION\n",
    "def afficheTemps(temps: list):\n",
    "    if temps[0] != 0 and temps[0] > 1:\n",
    "        print(temps[0], \"jours\", end=\" \")\n",
    "    elif temps[0] == 1:\n",
    "        print(temps[0], \"jour\", end=\" \")\n",
    "    if temps[1] != 0 and temps[1] > 1:\n",
    "        print(temps[1], \"heures\", end=\" \")\n",
    "    elif temps[1] == 1:\n",
    "        print(temps[1], \"heure\", end=\" \")\n",
    "    if temps[2] != 0 and temps[2] > 1:\n",
    "        print(temps[2], \"minutes\", end=\" \")\n",
    "    elif temps[2] == 1:\n",
    "        print(temps[2], \"minute\", end=\" \")\n",
    "    if temps[3] != 0 and temps[3] > 1:\n",
    "        print(temps[3], \"secondes\", end=\" \")\n",
    "    elif temps[3] == 1:\n",
    "        print(temps[3], \"seconde\", end=\" \")\n",
    "# afficheTemps((1,0,14,23))\n",
    "\n"
   ]
  },
  {
   "cell_type": "markdown",
   "metadata": {},
   "source": [
    "Ecrire une fonction qui demande à l'utilisateur de rentrer un nombre de jours, d'heures, de minutes et\n",
    "de secondes et qui renvoie un temps. Attention, si l'entrée utilisateur n'est pas correcte, par exemple 80 minutes,\n",
    "afficher un message d'erreur et s'arrêter.\n",
    "\n",
    "(Optionnel) Au lieu d'arêter le programme, demander de rentrer une nouvelle valeur, tant que \n",
    "ce n'est pas une valeur correcte."
   ]
  },
  {
   "cell_type": "code",
   "execution_count": null,
   "metadata": {},
   "outputs": [],
   "source": [
    "def demandeTemps():\n",
    "    pass\n",
    "\n",
    "afficheTemps(demandeTemps())"
   ]
  },
  {
   "cell_type": "code",
   "execution_count": 3,
   "metadata": {},
   "outputs": [],
   "source": [
    "#CORRECTION\n",
    "\n",
    "def demandeTemps():\n",
    "    jour = 0\n",
    "    jour = int(input(\"Quel est le nombre de jour de votre valeur ?\"))\n",
    "    while jour > 365 or jour < 0:\n",
    "        jour = int(input(\"Il faut que le nombre de jour soit cohérent.\"))\n",
    "    heure = 0\n",
    "    heure = int(input(\"Quel est le nombre d'heure de votre temps?\"))\n",
    "    while heure > 24 or jour < 0:\n",
    "        heure = int(input(\"Il faut que le nombre d'heure soit cohérent.\"))\n",
    "    minute = 0\n",
    "    minute = int(input(\"Quel est le nombre de minute de votre valeur ?\"))\n",
    "    while minute > 60 or minute < 0:\n",
    "        minute = int(input(\"Il faut que le nombre de minute soit cohérent.\"))\n",
    "    seconde = 0\n",
    "    seconde = int(input(\"Quel est votre nombre de seconde dans votre temps ?\"))\n",
    "    while seconde > 60 or seconde < 0:\n",
    "        seconde = int(input(\"Il faut que le nombre de seconde soit cohérent.\"))\n",
    "    return (jour, heure, minute, seconde)\n",
    "# afficheTemps(demandeTemps())\n"
   ]
  },
  {
   "cell_type": "markdown",
   "metadata": {},
   "source": [
    "On veut être capable d'additionner deux temps. Donner une fonction qui fait ce calcul,\n",
    "en utilisant les fonctions précédentes."
   ]
  },
  {
   "cell_type": "code",
   "execution_count": null,
   "metadata": {},
   "outputs": [],
   "source": [
    "def sommeTemps(temps1,temps2):\n",
    "    pass\n",
    "\n",
    "sommeTemps((2,3,4,25),(5,22,57,1))"
   ]
  },
  {
   "cell_type": "code",
   "execution_count": null,
   "metadata": {},
   "outputs": [],
   "source": [
    "#CORRECTION\n",
    "\n",
    "def sommeTemps(temps1: list, temps2: list):\n",
    "    resultat = tempsEnSeconde(temps1) + tempsEnSeconde(temps2)\n",
    "    return secondeEnTemps(resultat)\n",
    "# print(sommeTemps((2,3,4,25),(5,22,57,1)))\n",
    "\n",
    "\n",
    "\n"
   ]
  },
  {
   "cell_type": "markdown",
   "metadata": {},
   "source": [
    "On veut maintenant calculer un pourcentage d'un temps. Par exemple, 20% de\n",
    "2 jours et 36 minutes correspond à 9 heures, 43 minutes et 12 secondes.\n",
    "\n",
    "Implémenter la fonction `proportionTemps` puis appeler cette fonction en échangeant l'ordre des arguments mais en les nommant."
   ]
  },
  {
   "cell_type": "code",
   "execution_count": null,
   "metadata": {},
   "outputs": [],
   "source": [
    "def proportionTemps(temps,proportion):\n",
    "    pass\n",
    "afficheTemps(proportionTemps((2,0,36,0),0.2))\n",
    "#appeler la fonction en échangeant l'ordre des arguments"
   ]
  },
  {
   "cell_type": "code",
   "execution_count": null,
   "metadata": {},
   "outputs": [],
   "source": [
    "#CORRECTION\n",
    "def proportionTemps(temps: list, proportion: int):\n",
    "    return secondeEnTemps((tempsEnSeconde(temps) * (proportion / 100)))\n",
    "# resultat = proportionTemps((2, 0, 36, 0), 0.2)\n",
    "# afficheTemps(resultat)\n"
   ]
  },
  {
   "cell_type": "markdown",
   "metadata": {},
   "source": [
    "On veut maintenant afficher un temps sous forme de date, en supposant \n",
    "que le temps 0 est le 1 janvier 1970 à 00:00:00.\n",
    "\n",
    "* Implémenter une fonction `tempsEnDate`qui donne la date sous la forme (année, jour, heure, minute, seconde).\n",
    "* Implémenter la fonction `afficheDate`qui affiche la date. \n",
    "* (Optionnel) Gérer également les mois."
   ]
  },
  {
   "cell_type": "code",
   "execution_count": null,
   "metadata": {},
   "outputs": [],
   "source": [
    "def tempsEnDate(temps):\n",
    "    pass\n",
    "\n",
    "def afficheDate(date = -1):\n",
    "    pass\n",
    "    \n",
    "temps = secondeEnTemps(1000000000)\n",
    "afficheTemps(temps)\n",
    "afficheDate(tempsEnDate(temps))\n",
    "afficheDate()"
   ]
  },
  {
   "cell_type": "code",
   "execution_count": null,
   "metadata": {},
   "outputs": [],
   "source": [
    "#correction prof\n",
    "\n",
    "def tempsEnDate(temps):\n",
    "    jour, heure, minute, seconde = temps\n",
    "    annee = 1970 + jour // 365\n",
    "    jour %= 365\n",
    "    return (annee, jour, heure, minute, seconde)\n",
    "\n",
    "def afficheDate(date):\n",
    "    annee, jour, heure, minute, seconde = date\n",
    "    print (\"Annee\", annee, end =\", \")\n",
    "    afficheTemps ((jour, heure, minute, seconde))\n",
    "    \n",
    "def nombreBisextile(jour):\n",
    "    nb_bisextile = 0\n",
    "\n",
    "    annee = 1970\n",
    "    while (jour >= 0):\n",
    "        if (annee %4  ==0 and (annee % 100 !=0 or annee % 400 == 0)):\n",
    "            nb_bisextile += 1\n",
    "            jour -= 366\n",
    "        else :\n",
    "            jour -= 365\n",
    "        annee += 1\n",
    "\n",
    "    return nb_bisextile\n",
    "\n",
    "def tempsEnDateBisextile(temps):\n",
    "    jour, heure, minute, seconde = temps\n",
    "\n",
    "    jour -= nombreBisextile(jour)\n",
    "    annee = 1970 + jour //365\n",
    "    jour %= 365\n",
    "    return (annee, jour, heure, minute, seconde)\n",
    "\n",
    "  \n",
    "temps = secondeEnTemps(1000000000)\n",
    "afficheTemps(temps)\n",
    "afficheDate(tempsEnDateBisextile(temps))\n",
    "    pass\n",
    "    \n",
    "temps = secondeEnTemps(1000000000)\n",
    "afficheTemps(temps)\n",
    "afficheDate(tempsEnDate(temps))\n",
    "afficheDate()"
   ]
  },
  {
   "cell_type": "code",
   "execution_count": null,
   "metadata": {},
   "outputs": [],
   "source": [
    "#CORRECTION\n",
    "\n",
    "def tempsEnDate(temps: list):\n",
    "    annees = tempsEnSeconde(temps) // (60 * 60 * 24 * 365)\n",
    "    temps = tempsEnSeconde(temps) % (60 * 60 * 24 * 365)\n",
    "    jours = temps // (60 * 60 * 24)\n",
    "    temps = temps % (60 * 60 * 24)\n",
    "    heures = temps // (60 * 60)\n",
    "    temps = temps % (60 * 60)\n",
    "    minutes = temps // 60\n",
    "    temps = temps % 60\n",
    "    secondes = temps\n",
    "    return (annees, jours, heures, minutes, secondes)\n",
    "\n",
    "def secondeEnDate(secondes: int):\n",
    "    return tempsEnDate(secondeEnTemps(secondes))\n",
    "\n",
    "\n",
    "def afficheDate(date=secondeEnDate(time.time())):\n",
    "    if date[0] != 0 and date[0] > 1:\n",
    "        print(date[0], \"années\", end=\" \")\n",
    "    elif date[0] == 1:\n",
    "        print(date[0], \"année\", end=\" \")\n",
    "    if date[1] != 0 and date[1] > 1:\n",
    "        print(date[1], \"jours\", end=\" \")\n",
    "    elif date[1] == 1:\n",
    "        print(date[1], \"jour\", end=\" \")\n",
    "    if date[2] != 0 and date[2] > 1:\n",
    "        print(date[2], \"heures\", end=\" \")\n",
    "    elif date[2] == 1:\n",
    "        print(date[2], \"heure\", end=\" \")\n",
    "    if date[3] != 0 and date[3] > 1:\n",
    "        print(temps[3], \"minutes\", end=\" \")\n",
    "    elif date[3] == 1:\n",
    "        print(date[3], \"minute\", end=\" \")\n",
    "    if date[4] != 0 and date[4] > 1:\n",
    "        print(date[4], \"secondes\", end=\" \")\n",
    "    elif date[4] == 1:\n",
    "        print(date[4], \"seconde\", end=\" \")\n",
    "\n",
    "\n",
    "# temps = secondeEnTemps(1000000000)\n",
    "# afficheTemps(temps)\n",
    "# afficheDate(tempsEnDate(temps))\n",
    "\n",
    "# import time\n",
    "# print(secondeEnTemps(time.time()))\n",
    "# afficheDate(tempsEnDate(secondeEnTemps(time.time())))\n",
    "# secondeEnTemps(time.time())\n",
    "# time.gmtime()\n",
    "\n"
   ]
  },
  {
   "cell_type": "markdown",
   "metadata": {},
   "source": [
    "Il existe des fonctions dans la librairie `time` pour la gestion du temps. En particulier, il existe\n",
    "une fonction `time` qui donne le temps écoulé depuis 1970 en secondes. \n",
    "La trouver avec la [documentation python](https://docs.python.org/fr/3/library/time.html#module-time) et la tester en utilisant `afficheDate`. \n",
    "Tester de la même manière la fonction `time.gmtime` qui réalise une tâche similaire à `tempsEnDate`.\n",
    "Que constatez vous ?"
   ]
  },
  {
   "cell_type": "code",
   "execution_count": 8,
   "metadata": {},
   "outputs": [
    {
     "name": "stdout",
     "output_type": "stream",
     "text": [
      "(18955.0, 8.0, 27.0, 40.49839377403259)\n",
      "(18955.0, 8.0, 27.0, 40.49839377403259)\n"
     ]
    },
    {
     "ename": "NameError",
     "evalue": "name 'afficheDate' is not defined",
     "output_type": "error",
     "traceback": [
      "\u001b[1;31m---------------------------------------------------------------------------\u001b[0m",
      "\u001b[1;31mNameError\u001b[0m                                 Traceback (most recent call last)",
      "\u001b[1;32mC:\\Users\\LAURED~1\\AppData\\Local\\Temp/ipykernel_3732/1837849754.py\u001b[0m in \u001b[0;36m<module>\u001b[1;34m\u001b[0m\n\u001b[0;32m      2\u001b[0m \u001b[1;32mimport\u001b[0m \u001b[0mtime\u001b[0m\u001b[1;33m\u001b[0m\u001b[1;33m\u001b[0m\u001b[0m\n\u001b[0;32m      3\u001b[0m \u001b[0mprint\u001b[0m\u001b[1;33m(\u001b[0m\u001b[0msecondeEnTemps\u001b[0m\u001b[1;33m(\u001b[0m\u001b[0mtime\u001b[0m\u001b[1;33m.\u001b[0m\u001b[0mtime\u001b[0m\u001b[1;33m(\u001b[0m\u001b[1;33m)\u001b[0m\u001b[1;33m)\u001b[0m\u001b[1;33m)\u001b[0m\u001b[1;33m\u001b[0m\u001b[1;33m\u001b[0m\u001b[0m\n\u001b[1;32m----> 4\u001b[1;33m \u001b[0mafficheDate\u001b[0m\u001b[1;33m(\u001b[0m\u001b[0mtempsEnDate\u001b[0m\u001b[1;33m(\u001b[0m\u001b[0msecondeEnTemps\u001b[0m\u001b[1;33m(\u001b[0m\u001b[0mtime\u001b[0m\u001b[1;33m.\u001b[0m\u001b[0mtime\u001b[0m\u001b[1;33m(\u001b[0m\u001b[1;33m)\u001b[0m\u001b[1;33m)\u001b[0m\u001b[1;33m)\u001b[0m\u001b[1;33m)\u001b[0m\u001b[1;33m\u001b[0m\u001b[1;33m\u001b[0m\u001b[0m\n\u001b[0m\u001b[0;32m      5\u001b[0m \u001b[0msecondeEnTemps\u001b[0m\u001b[1;33m(\u001b[0m\u001b[0mtime\u001b[0m\u001b[1;33m.\u001b[0m\u001b[0mtime\u001b[0m\u001b[1;33m(\u001b[0m\u001b[1;33m)\u001b[0m\u001b[1;33m)\u001b[0m\u001b[1;33m\u001b[0m\u001b[1;33m\u001b[0m\u001b[0m\n\u001b[0;32m      6\u001b[0m \u001b[0mtime\u001b[0m\u001b[1;33m.\u001b[0m\u001b[0mgmtime\u001b[0m\u001b[1;33m(\u001b[0m\u001b[1;33m)\u001b[0m\u001b[1;33m\u001b[0m\u001b[1;33m\u001b[0m\u001b[0m\n",
      "\u001b[1;31mNameError\u001b[0m: name 'afficheDate' is not defined"
     ]
    }
   ],
   "source": [
    "#tester ici les fonctions de la librairie time\n",
    "print (\"Temps en date 1\" , tempsEnDate((1, 2, 40, 50)))\n",
    "print (\"Temps en date 2\" , tempsEnDate(secondeEnTemps(1000000)))\n",
    "afficheDate(tempsEnDate(1, 2, 40, 40))\n",
    "\n",
    "\n",
    "\n",
    "import time\n",
    "\n",
    "afficheDate(tempsEnDate(secondeEnTemps(int(time.time()))))\n",
    "print (time.gmtime(time.time()))\n",
    "afficheDate(tempsEnDateBisextile(secondeEnTemps(int(time.gmtime()))))\n",
    "afficheDate\n",
    "\n",
    "print(nombreMois(328.2021))\n",
    "tempsEnDateCompltete(secondeEnTemps(int(time.time())))\n",
    "print(secondeEnTemps(time.time()))\n",
    "afficheDate(tempsEnDate(secondeEnTemps(time.time())))\n",
    "secondeEnTemps(time.time())\n",
    "time.gmtime()"
   ]
  },
  {
   "cell_type": "markdown",
   "metadata": {},
   "source": [
    "Attention, tous les 4 ans les années sont bisextiles (un jour de plus) sauf les multiples de 100 qui ne sont pas des multiples de 400.\n",
    "Donner un code qui prend un nombre de jours et affiche toutes les années bisextiles depuis 1 janvier 2020 à 00:00:00 jusqu'à la fin de ces jours."
   ]
  },
  {
   "cell_type": "code",
   "execution_count": null,
   "metadata": {},
   "outputs": [],
   "source": [
    "def bisextile(jour):\n",
    "    pass\n",
    "        \n",
    "bisextile(20000)"
   ]
  },
  {
   "cell_type": "code",
   "execution_count": 9,
   "metadata": {},
   "outputs": [
    {
     "name": "stdout",
     "output_type": "stream",
     "text": [
      "annee 1972 bissextile\n"
     ]
    }
   ],
   "source": [
    "#correction prof\n",
    "\n",
    "def bisextile(jour):\n",
    "    annee = 1970\n",
    "    while (jour >=0):\n",
    "        if (annee %4 == 0 and (annee % 100 != 0 or annee % 400 == 0)):\n",
    "            print (\"annee\", annee, \"bissextile\")\n",
    "            jour -= 366\n",
    "        else :\n",
    "            jour -= 365\n",
    "        annee += 1\n",
    "bisextile(2000)"
   ]
  },
  {
   "cell_type": "markdown",
   "metadata": {},
   "source": [
    "Implémenter une fonction `nombreBisextile` qui calcule le nombre d'années bisextiles pour un nombre de jour donnés pour corriger votre fonction de calcul de la date."
   ]
  },
  {
   "cell_type": "code",
   "execution_count": null,
   "metadata": {},
   "outputs": [],
   "source": [
    "def nombreBisextile(jour):\n",
    "    pass\n",
    "\n",
    "def tempsEnDateBisextile(temps):\n",
    "    pass\n",
    "   \n",
    "temps = secondeEnTemps(1000000000)\n",
    "afficheTemps(temps)\n",
    "afficheDate(tempsEnDateBisextile(temps))"
   ]
  },
  {
   "cell_type": "code",
   "execution_count": null,
   "metadata": {},
   "outputs": [],
   "source": []
  },
  {
   "cell_type": "code",
   "execution_count": 10,
   "metadata": {},
   "outputs": [
    {
     "ename": "NameError",
     "evalue": "name 'tempsEnDate' is not defined",
     "output_type": "error",
     "traceback": [
      "\u001b[1;31m---------------------------------------------------------------------------\u001b[0m",
      "\u001b[1;31mNameError\u001b[0m                                 Traceback (most recent call last)",
      "\u001b[1;32mC:\\Users\\LAURED~1\\AppData\\Local\\Temp/ipykernel_3732/4039270712.py\u001b[0m in \u001b[0;36m<module>\u001b[1;34m\u001b[0m\n\u001b[0;32m     12\u001b[0m     \u001b[1;32mreturn\u001b[0m \u001b[0mcompteur\u001b[0m\u001b[1;33m\u001b[0m\u001b[1;33m\u001b[0m\u001b[0m\n\u001b[0;32m     13\u001b[0m \u001b[1;33m\u001b[0m\u001b[0m\n\u001b[1;32m---> 14\u001b[1;33m \u001b[0mprint\u001b[0m\u001b[1;33m(\u001b[0m\u001b[0mnombreBisextile\u001b[0m\u001b[1;33m(\u001b[0m\u001b[1;36m200000\u001b[0m\u001b[1;33m)\u001b[0m\u001b[1;33m)\u001b[0m\u001b[1;33m\u001b[0m\u001b[1;33m\u001b[0m\u001b[0m\n\u001b[0m\u001b[0;32m     15\u001b[0m \u001b[1;33m\u001b[0m\u001b[0m\n\u001b[0;32m     16\u001b[0m \u001b[1;33m\u001b[0m\u001b[0m\n",
      "\u001b[1;32mC:\\Users\\LAURED~1\\AppData\\Local\\Temp/ipykernel_3732/4039270712.py\u001b[0m in \u001b[0;36mnombreBisextile\u001b[1;34m(jour)\u001b[0m\n\u001b[0;32m      3\u001b[0m \u001b[1;32mdef\u001b[0m \u001b[0mnombreBisextile\u001b[0m\u001b[1;33m(\u001b[0m\u001b[0mjour\u001b[0m\u001b[1;33m:\u001b[0m \u001b[0mint\u001b[0m\u001b[1;33m)\u001b[0m\u001b[1;33m:\u001b[0m\u001b[1;33m\u001b[0m\u001b[1;33m\u001b[0m\u001b[0m\n\u001b[0;32m      4\u001b[0m     \u001b[0mtemps\u001b[0m \u001b[1;33m=\u001b[0m \u001b[1;33m(\u001b[0m\u001b[0mint\u001b[0m\u001b[1;33m(\u001b[0m\u001b[0mjour\u001b[0m\u001b[1;33m)\u001b[0m\u001b[1;33m,\u001b[0m \u001b[1;36m0\u001b[0m\u001b[1;33m,\u001b[0m \u001b[1;36m0\u001b[0m\u001b[1;33m,\u001b[0m \u001b[1;36m0\u001b[0m\u001b[1;33m)\u001b[0m\u001b[1;33m\u001b[0m\u001b[1;33m\u001b[0m\u001b[0m\n\u001b[1;32m----> 5\u001b[1;33m     \u001b[0mdate\u001b[0m \u001b[1;33m=\u001b[0m \u001b[0mtempsEnDate\u001b[0m\u001b[1;33m(\u001b[0m\u001b[0msecondeEnTemps\u001b[0m\u001b[1;33m(\u001b[0m\u001b[0mtempsEnSeconde\u001b[0m\u001b[1;33m(\u001b[0m\u001b[0mtemps\u001b[0m\u001b[1;33m)\u001b[0m\u001b[1;33m)\u001b[0m\u001b[1;33m)\u001b[0m\u001b[1;33m\u001b[0m\u001b[1;33m\u001b[0m\u001b[0m\n\u001b[0m\u001b[0;32m      6\u001b[0m     \u001b[0mannee\u001b[0m \u001b[1;33m=\u001b[0m \u001b[0mdate\u001b[0m\u001b[1;33m[\u001b[0m\u001b[1;36m0\u001b[0m\u001b[1;33m]\u001b[0m\u001b[1;33m\u001b[0m\u001b[1;33m\u001b[0m\u001b[0m\n\u001b[0;32m      7\u001b[0m     \u001b[0mcompteur\u001b[0m \u001b[1;33m=\u001b[0m \u001b[1;36m0\u001b[0m\u001b[1;33m\u001b[0m\u001b[1;33m\u001b[0m\u001b[0m\n",
      "\u001b[1;31mNameError\u001b[0m: name 'tempsEnDate' is not defined"
     ]
    }
   ],
   "source": [
    "#CORRECTION\n",
    "\n",
    "def nombreBisextile(jour: int):\n",
    "    temps = (int(jour), 0, 0, 0)\n",
    "    date = tempsEnDate(secondeEnTemps(tempsEnSeconde(temps)))\n",
    "    annee = date[0]\n",
    "    compteur = 0\n",
    "    while annee != 0:\n",
    "        if (annee % 4) == 0 and (annee % 100 != 0 or annee % 400 == 0):\n",
    "            compteur += 1\n",
    "        annee += -1\n",
    "    return compteur\n",
    "\n",
    "#print(nombreBisextile(200000))\n",
    "\n",
    "\n",
    "def tempsEnDateBisextile(temps: list):\n",
    "    jours = temps[0]\n",
    "    jours += nombreBisextile(jours)\n",
    "    date = (0, jours, temps[1], temps[2], temps[3])\n",
    "    return date\n",
    "\n",
    "\n",
    "# temps = secondeEnTemps(1000000000)\n",
    "# afficheTemps(temps)\n",
    "# afficheDate(tempsEnDateBisextile(temps))\n",
    "# afficheDate()\n",
    "\n"
   ]
  },
  {
   "cell_type": "markdown",
   "metadata": {},
   "source": [
    "Ajouter des valeurs par défaut dans le code de `afficheDate` afin de pouvoir ommettre\n",
    "l'argument de ces fonctions. Dans ce cas là, on affichera la date actuelle en utilisant la fonction `time`."
   ]
  },
  {
   "cell_type": "markdown",
   "metadata": {},
   "source": [
    "On va maintenant inspecter notre code pour améliorer sa qualité:\n",
    "\n",
    "* Regarder tous les warnings donnés par flake8 et essayer de les régler.\n",
    "* Utiliser le debugger (F5) pour étudier le fonctionnement de votre fonction nombreBisextile.\n",
    "* Mettre les annotations de type des arguments et du retour de la fonction pour nombreBisextile et une autre fonction de votre choix. Vérifier avec mypy que tout fonctionne bien."
   ]
  },
  {
   "cell_type": "markdown",
   "metadata": {},
   "source": [
    "Donner une fonction qui vérifie la charge horaire d'un employé, donnée sous forme d'une liste de temps travaillé chaque semaine dans un mois. Il ne faut pas dépasser 48h par semaine et 140h par mois (qu'on considère ici de 4 semaines).\n",
    "\n",
    "(Optionnel) S'adapter à une liste qui peut contenir plusieurs mois."
   ]
  },
  {
   "cell_type": "code",
   "execution_count": null,
   "metadata": {},
   "outputs": [],
   "source": [
    "def verifie(liste_temps):\n",
    "    pass\n",
    "\n",
    "\n",
    "liste_temps = [[1,2,39,34],[0,1,9,4],[0,29,39,51],[0,31,13,46]]\n",
    "verifie(liste_temps)"
   ]
  },
  {
   "cell_type": "code",
   "execution_count": null,
   "metadata": {},
   "outputs": [],
   "source": [
    "#CORRECTION\n",
    "\n",
    "def verifie(horaires: list):\n",
    "    sommeHoraires = 0\n",
    "    for elem in horaires:\n",
    "        print(\"L'employé a fait\", elem[1] + 24 * elem[0], \"heures dans la semaine.\")\n",
    "        sommeHoraires += tempsEnSeconde(elem)\n",
    "        if tempsEnSeconde(elem) > (48 * 3600) or sommeHoraires > (140 * 3600):\n",
    "            return print(\"Les horaires limites ont été dépassés.\", \"Il a fait\", sommeHoraires // 3600, \"heures dans le mois.\")\n",
    "    return print(\"Les horaires limites ont été respectés.\", \"Il a fait\", sommeHoraires // 3600, \"heures dans le mois.\")\n",
    "\n",
    "\n",
    "# horaires = [[1, 2, 39, 34], [0, 3, 9, 4], [0, 2, 39, 51], [0, 1, 13, 46]]\n",
    "# verifie(horaires)\n"
   ]
  },
  {
   "cell_type": "code",
   "execution_count": 11,
   "metadata": {},
   "outputs": [
    {
     "name": "stdout",
     "output_type": "stream",
     "text": [
      "l'employeur a trop de temps de travail\n"
     ]
    }
   ],
   "source": [
    "def verifie (liste_temps):\n",
    "\n",
    "    for month in liste_temps:\n",
    "        temps_month =0\n",
    "        for semaine in month :\n",
    "            if semaine >48:\n",
    "                print(\"l'employeur a trop de temps de travail\")\n",
    "                break\n",
    "            temps_month += semaine\n",
    "        if temps_month > 140 :\n",
    "            print (\"L'employeur a trop de temps de travail\")\n",
    "liste_temps = [[1, 2, 39, 34], [0, 3, 9, 4], [0, 2, 39, 51], [0, 1, 13, 46]]\n",
    "verifie(liste_temps)         "
   ]
  },
  {
   "cell_type": "code",
   "execution_count": null,
   "metadata": {},
   "outputs": [],
   "source": []
  }
 ],
 "metadata": {
  "kernelspec": {
   "display_name": "Python 3",
   "language": "python",
   "name": "python3"
  },
  "language_info": {
   "codemirror_mode": {
    "name": "ipython",
    "version": 3
   },
   "file_extension": ".py",
   "mimetype": "text/x-python",
   "name": "python",
   "nbconvert_exporter": "python",
   "pygments_lexer": "ipython3",
   "version": "3.9.7"
  }
 },
 "nbformat": 4,
 "nbformat_minor": 4
}
